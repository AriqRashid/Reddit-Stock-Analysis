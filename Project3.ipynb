{
 "cells": [
  {
   "cell_type": "markdown",
   "id": "dccca1fd",
   "metadata": {},
   "source": [
    "### Team Info\n",
    "\n",
    "#### Project Title: Reddit User Investment Advice Performance\n",
    "\n",
    "\n",
    "#### Group Name: Group 24\n",
    "\n",
    "#### Names and PIDS: \n",
    "Ariq Rashid (ariqr), \n",
    "Minh Tran (minhtran1379), \n",
    "Sihua Kang(sihuak), \n",
    "Bailey McKelway (baileymckelway), \n",
    "Lingyu Zhou (lingyuz)\n",
    "\n",
    "\n",
    "### Project Introduction\n",
    "\n",
    "#### Initial Description: \n",
    "Reddit is a social media site with many forums. In recent years it has become a popular spot for amateur investors to share investment advice. Some of the more popular subreddits for investing are /r/wallstreetbets and /r/investing. Through Reddits API we have access to user comments dating back multiple years. We want to scrape individual user's comments that give investment advice.\n",
    "\n",
    "#### Research Questions: \n",
    "Can we determine if a user gives good investment advice based on which stock they support and when they give that adivce. Comparing it to the stock's price at that date and the current stock price.\n",
    "\n",
    "Can we apply Sharpe's Ratio to a users investment adivce over time to score the quality of their advice.\n",
    "\n",
    "How accurate and reliable is investment advice shared on Reddit compared to advice from professional financial advisors?\n",
    "\n",
    "\n",
    "#### Description of potential source data: \n",
    "https://www.reddit.com/r/wallstreetbets/\n",
    "https://www.reddit.com/r/investing/\n",
    "https://finance.yahoo.com\n",
    "https://www.reddit.com/dev/api/\n"
   ]
  },
  {
   "cell_type": "markdown",
   "id": "d662d49c",
   "metadata": {},
   "source": [
    "# Part 2"
   ]
  },
  {
   "cell_type": "markdown",
   "id": "019ed3f8",
   "metadata": {},
   "source": [
    "## The Plan"
   ]
  },
  {
   "cell_type": "markdown",
   "id": "afe871a7",
   "metadata": {},
   "source": [
    "Our plan involved utilizing web scraping and sentiment analysis to track mentions of specific stocks on finance subreddits. The subreddits we will be searching through are: r/Investing, r/Wallstreetbets, r/Stocks, and r/Daytrading. Firstly, we selected a group of stocks to monitor and then scrape the subreddits for any mentions of their tickers. The stocks we have chosen to track are: Apple, Google, Meta, Tesla, AMC, and Exxon Mobil. Following that, we stored user information and their posts which contain mentions of the selected tickers. Next, the posts underwent sentiment analysis to determine if the sentiment was positive or negative. Finally, the users' sentiment analysis was compared with a graph of the stock to assess the accuracy of their recommendation. "
   ]
  },
  {
   "cell_type": "markdown",
   "id": "d1ca2b49",
   "metadata": {},
   "source": [
    "## Step 1: Scrapping"
   ]
  },
  {
   "cell_type": "markdown",
   "id": "f49c984e",
   "metadata": {},
   "source": [
    "To scrape the subbreddits for mentions of our selected stock tickers, we used the Python Reddit API Wrapper, also known as PRAW. There is another API called Pushshift, that we considered using. They are both free but there are notable differences between the two, but we decided to go with PRAW due to its ease of use and that we'd only be reading from Reddit, and not making our own posts.."
   ]
  },
  {
   "cell_type": "markdown",
   "id": "2fb66213",
   "metadata": {},
   "source": [
    "To be able to use PRAW, we had to `pip install` praw in our command line to have access to its libraries.Once that is done, we imported the libraries."
   ]
  },
  {
   "cell_type": "code",
   "execution_count": 9,
   "id": "b5e2ce50",
   "metadata": {},
   "outputs": [],
   "source": [
    "import praw\n",
    "from praw.models import MoreComments\n",
    "from datetime import datetime\n",
    "import pandas as pd\n",
    "import yfinance as yf\n",
    "import matplotlib.pyplot as plt\n",
    "import ast\n",
    "import numpy as np\n",
    "import statistics\n",
    "import json\n",
    "import re"
   ]
  },
  {
   "cell_type": "markdown",
   "id": "c4d4cc05",
   "metadata": {},
   "source": [
    "Next, we had to create our own reddit app. We went to https://www.reddit.com/prefs/apps to create our own app. We named our app *FinanceScraper*. After creating the app, we were provided the necessary keys in order to create our own Reddit instance that is neccessary to use the API."
   ]
  },
  {
   "cell_type": "code",
   "execution_count": 37,
   "id": "b58d53f7",
   "metadata": {},
   "outputs": [],
   "source": [
    "reddit = praw.Reddit(\n",
    "        client_id = \"YcedLYlL5lKNipYeF2NDqw\",\n",
    "        client_secret = \"ftAn2nfvdg4i01X75UsTxiRgxHfcCQ\",\n",
    "        user_agent = \"Finance Scraper for CMDA/CS 3654 Project\",)"
   ]
  },
  {
   "cell_type": "markdown",
   "id": "6ef61de9",
   "metadata": {},
   "source": [
    "Now that we had proper access to the API, we could begin scraping usernames and posts. We first had to make sure that the users we were choosing were not automoderators or bots, so we created a function called `is_bot()` to check."
   ]
  },
  {
   "cell_type": "code",
   "execution_count": 38,
   "id": "22811ecd",
   "metadata": {},
   "outputs": [],
   "source": [
    "'''\n",
    "Paramter: user - a redditor object\n",
    "\n",
    "Return: True if user is not an automod or a bot\n",
    "'''\n",
    "def is_bot(user):\n",
    "    return user.name.lower() == 'automoderator' or user.name.lower() == \"bot\""
   ]
  },
  {
   "cell_type": "markdown",
   "id": "724b120c",
   "metadata": {},
   "source": [
    "Then, we needed to be able to search for any mention of a ticker through a specified subreddit in a given time frame. We created the `search_for_tickers()` function. Any post that had the ticker in the title, we stored the user in a dictionary as 'key', and the value(s) would be their posts that had the ticker. It incorporates the `is_bot()` function before adding adding a user to the dictionary."
   ]
  },
  {
   "cell_type": "code",
   "execution_count": 39,
   "id": "644525aa",
   "metadata": {},
   "outputs": [],
   "source": [
    "'''\n",
    "Parameters: ticker - ticker to search for\n",
    "            subreddit - subreddit to search through\n",
    "            user_dict - dictionary of user with posts mentioning ticker\n",
    "            time - how far back to search (day, week, month, year)\n",
    "'''\n",
    "def search_for_ticker(ticker, subreddit, user_dict, time_frame):\n",
    "    \n",
    "    search_results = subreddit.search(f'title:{ticker}', time_filter=time_frame)\n",
    "    \n",
    "    #Loops through each post that matches the search result\n",
    "    for post in search_results:\n",
    "        if post.selftext != '':\n",
    "        #Checks if author is a bot, then adds to dictionary\n",
    "            if is_bot(post.author) == False:\n",
    "                \n",
    "            #Checks if author is already in dictionary\n",
    "                if (post.author.name not in user_dict):\n",
    "                        user_dict[post.author.name] = []\n",
    "                    \n",
    "            #Checks if post.id is already in dictionary    \n",
    "                if post.id not in user_dict[post.author.name]:\n",
    "                        user_dict[post.author.name].append(post.id)    \n"
   ]
  },
  {
   "cell_type": "markdown",
   "id": "2b03d155",
   "metadata": {},
   "source": [
    "Since the tickers and mentions can slightly vary but mean the same thing($AAPL and Apple) and we needed to search through multiple subreddits in a given time frame. We created a function that takes a list of tickers and a list of subreddits and incoroporates the `search_for_ticker()` function within it. We called this function `search_from_subs()` that returns a dictionary of the users and their posts mentioning the tickers: `{'user': ['post1_id', 'post2_id']}` ."
   ]
  },
  {
   "cell_type": "code",
   "execution_count": 40,
   "id": "babb505e",
   "metadata": {},
   "outputs": [],
   "source": [
    "'''\n",
    "Parameters: tickers - list of tickers to search for\n",
    "            subreddit - list of subreddits to search through\n",
    "            time_frame - how far back to search (day, week, month, year)\n",
    "            \n",
    "Returns: user_dict - a dictionary of users who mentioned tickers in list of subs, their post_ids as values\n",
    "'''\n",
    "def search_from_subs(tickers, subreddits, time_frame):\n",
    "    \n",
    "    user_dict = {}\n",
    "    \n",
    "    for sub in subreddits:\n",
    "        for ticker in tickers:\n",
    "            \n",
    "            search_for_ticker(ticker, sub, user_dict, time_frame)\n",
    "    \n",
    "    return user_dict"
   ]
  },
  {
   "cell_type": "markdown",
   "id": "0c9d72a7",
   "metadata": {},
   "source": [
    "With these functions, all we needed was the subreddits and tickers. We created instances for each subreddit and put them in a list called `subreddits`."
   ]
  },
  {
   "cell_type": "code",
   "execution_count": 41,
   "id": "a5053aad",
   "metadata": {},
   "outputs": [],
   "source": [
    "#Create instances for each subreddit\n",
    "wsb = reddit.subreddit(\"wallstreetbets\")\n",
    "invest = reddit.subreddit(\"investing\")\n",
    "stocks = reddit.subreddit(\"stocks\")\n",
    "daytrade = reddit.subreddit(\"daytrading\")\n",
    "\n",
    "# crypto should only be used if checking for cryptocurrencies\n",
    "# crypto = reddit.subreddit(\"cryptocurrency\")\n",
    "\n",
    "#Put subreddits in list\n",
    "subreddits =  [wsb, invest, stocks, daytrade]"
   ]
  },
  {
   "cell_type": "markdown",
   "id": "11494cd6",
   "metadata": {},
   "source": [
    "Then we create a list of tickers and names for each stock we wanted to track and search for. For now, we will just track Apple and name the list `apple_tickers`."
   ]
  },
  {
   "cell_type": "code",
   "execution_count": 42,
   "id": "ae60bc1b",
   "metadata": {},
   "outputs": [],
   "source": [
    "#List of apple tickers to search for\n",
    "apple_tickers = ['AAPL', 'Apple', 'apple']"
   ]
  },
  {
   "cell_type": "markdown",
   "id": "e2aac58c",
   "metadata": {},
   "source": [
    "We have everything we need to scrape and create the dictionary. We searched through the past year for mentions of the tickers in the four subreddits. We will name the dictionary `apple_dict`."
   ]
  },
  {
   "cell_type": "code",
   "execution_count": 43,
   "id": "8a5429be",
   "metadata": {},
   "outputs": [],
   "source": [
    "apple_dict= search_from_subs(apple_tickers, subreddits, \"year\")"
   ]
  },
  {
   "cell_type": "markdown",
   "id": "d9126a39",
   "metadata": {},
   "source": [
    "## Step 2: Sentiment Analysis"
   ]
  },
  {
   "cell_type": "markdown",
   "id": "5ba7b06d",
   "metadata": {},
   "source": [
    "Now that we had the users and their posts, we could conduct sentiment analysis. To do this, we first needed a list of positive and negative words to mark for. These lists were provided by Professor North in class."
   ]
  },
  {
   "cell_type": "code",
   "execution_count": null,
   "id": "4374fedb",
   "metadata": {},
   "outputs": [],
   "source": [
    "positive_words = set(open('positive.txt').read().split())\n",
    "negative_words = set(open('negative.txt').read().split())"
   ]
  },
  {
   "cell_type": "markdown",
   "id": "01cfdda1",
   "metadata": {},
   "source": [
    "Then we had to create a function that searches for these words, and counts their frequency. Then  we woud see if the post was mostly positive or negative. If it's positive, we would consider that as the user \"recommending\" or \"buying\" the stock. If it was negative, we would consider them \"selling\"."
   ]
  },
  {
   "cell_type": "code",
   "execution_count": null,
   "id": "ca430ef4",
   "metadata": {},
   "outputs": [],
   "source": [
    "def Analysis_tendency(text):\n",
    "\n",
    "    words_bag = text.replace(',', '').replace('!', '').replace(',', '').replace('.', '').replace('?', '').replace(':', '').lower().split()\n",
    "    pos = len([word for word in words_bag if word in positive_words])\n",
    "    neg = len([word for word in words_bag if word in negative_words])\n",
    "    if neg > pos:\n",
    "        return 0 #if the sentence is in negtive tendency we return 0\n",
    "    \n",
    "    return  1 #if the sentence is in postive tendency we return 1"
   ]
  },
  {
   "cell_type": "markdown",
   "id": "a1d05f31",
   "metadata": {},
   "source": [
    "A problem we came across while doing this is that we needed to run the functions everyday to get the data, and that calling upon the API to do it would take some time. Therefore, we decided that we would save the data in a csv file, so that we would not have to rely upon the API at this point. We went ahead and created a dataframe withe user_ids, post_ids, the titles, the date it was posted, and its tendency according to our function."
   ]
  },
  {
   "cell_type": "code",
   "execution_count": null,
   "id": "2974600f",
   "metadata": {},
   "outputs": [],
   "source": [
    "df = pandas.DataFrame.from_dict(apple_dict, orient='index')\n",
    "df.columns = ['post_id']\n",
    "df['Title'] = df['post_id'].apply(lambda x: reddit.submission(id=x).title)\n",
    "df['Time'] = df['post_id'].apply(lambda x: datetime.fromtimestamp(reddit.submission(id=x).created_utc))\n",
    "df['Tendency'] = df['post_id'].apply(lambda x: Analysis_tendency(reddit.submission(id=x).selftext))\n",
    "df['Username'] = df.index"
   ]
  },
  {
   "cell_type": "code",
   "execution_count": null,
   "id": "ed44aa4f",
   "metadata": {},
   "outputs": [],
   "source": [
    "df.to_csv('Fixed_data.csv', index=False)"
   ]
  },
  {
   "cell_type": "markdown",
   "id": "75f6cffb",
   "metadata": {},
   "source": [
    "Now, we can access and call upon the data whenver without relying upon the API and running the previous cells."
   ]
  },
  {
   "cell_type": "code",
   "execution_count": 12,
   "id": "01f099e6",
   "metadata": {
    "scrolled": true
   },
   "outputs": [
    {
     "data": {
      "text/html": [
       "<div>\n",
       "<style scoped>\n",
       "    .dataframe tbody tr th:only-of-type {\n",
       "        vertical-align: middle;\n",
       "    }\n",
       "\n",
       "    .dataframe tbody tr th {\n",
       "        vertical-align: top;\n",
       "    }\n",
       "\n",
       "    .dataframe thead th {\n",
       "        text-align: right;\n",
       "    }\n",
       "</style>\n",
       "<table border=\"1\" class=\"dataframe\">\n",
       "  <thead>\n",
       "    <tr style=\"text-align: right;\">\n",
       "      <th></th>\n",
       "      <th>post_id</th>\n",
       "      <th>Title</th>\n",
       "      <th>Time</th>\n",
       "      <th>Tendency</th>\n",
       "      <th>Username</th>\n",
       "    </tr>\n",
       "  </thead>\n",
       "  <tbody>\n",
       "    <tr>\n",
       "      <th>0</th>\n",
       "      <td>10s71tx</td>\n",
       "      <td>Thoughts on AMZN, AAPL, GOOGL at market open t...</td>\n",
       "      <td>2023-02-02 20:20:20</td>\n",
       "      <td>1</td>\n",
       "      <td>IT_lurks_below</td>\n",
       "    </tr>\n",
       "    <tr>\n",
       "      <th>1</th>\n",
       "      <td>z7ytgm</td>\n",
       "      <td>I just bought elongated puts AAPL</td>\n",
       "      <td>2022-11-29 11:34:17</td>\n",
       "      <td>1</td>\n",
       "      <td>Endoskeleton1</td>\n",
       "    </tr>\n",
       "    <tr>\n",
       "      <th>2</th>\n",
       "      <td>ztoj34</td>\n",
       "      <td>The stock market should NOT bottom until $AAPL...</td>\n",
       "      <td>2022-12-23 13:05:19</td>\n",
       "      <td>1</td>\n",
       "      <td>Degenereth</td>\n",
       "    </tr>\n",
       "    <tr>\n",
       "      <th>3</th>\n",
       "      <td>10mdnjo</td>\n",
       "      <td>SQQQ Feb1 before AAPL sets the world on fire?</td>\n",
       "      <td>2023-01-27 00:57:31</td>\n",
       "      <td>1</td>\n",
       "      <td>Lurking_In_A_Cape</td>\n",
       "    </tr>\n",
       "    <tr>\n",
       "      <th>4</th>\n",
       "      <td>10ejmg7</td>\n",
       "      <td>Race to dominate AI tech: Comparing MSFT, GOOG...</td>\n",
       "      <td>2023-01-17 13:35:01</td>\n",
       "      <td>1</td>\n",
       "      <td>OliveInvestor</td>\n",
       "    </tr>\n",
       "    <tr>\n",
       "      <th>...</th>\n",
       "      <td>...</td>\n",
       "      <td>...</td>\n",
       "      <td>...</td>\n",
       "      <td>...</td>\n",
       "      <td>...</td>\n",
       "    </tr>\n",
       "    <tr>\n",
       "      <th>173</th>\n",
       "      <td>zqlzo4</td>\n",
       "      <td>$AAPL (Apple) breakdown trade today for +2.8 R</td>\n",
       "      <td>2022-12-20 06:26:15</td>\n",
       "      <td>1</td>\n",
       "      <td>supertexter</td>\n",
       "    </tr>\n",
       "    <tr>\n",
       "      <th>174</th>\n",
       "      <td>vtscmo</td>\n",
       "      <td>Day trading AAPL with 100k</td>\n",
       "      <td>2022-07-07 16:34:37</td>\n",
       "      <td>1</td>\n",
       "      <td>garruslol</td>\n",
       "    </tr>\n",
       "    <tr>\n",
       "      <th>175</th>\n",
       "      <td>uac3rp</td>\n",
       "      <td>In reality, do SPY stocks (eg AAPL) or futures...</td>\n",
       "      <td>2022-04-23 14:50:14</td>\n",
       "      <td>1</td>\n",
       "      <td>dizzydes</td>\n",
       "    </tr>\n",
       "    <tr>\n",
       "      <th>176</th>\n",
       "      <td>102nc19</td>\n",
       "      <td>Apple Gap Fill?</td>\n",
       "      <td>2023-01-03 18:36:17</td>\n",
       "      <td>0</td>\n",
       "      <td>Scalper_91</td>\n",
       "    </tr>\n",
       "    <tr>\n",
       "      <th>177</th>\n",
       "      <td>y3t4py</td>\n",
       "      <td>Why do you think Apple took down MetaTrader?</td>\n",
       "      <td>2022-10-14 08:51:13</td>\n",
       "      <td>0</td>\n",
       "      <td>Lilipad42</td>\n",
       "    </tr>\n",
       "  </tbody>\n",
       "</table>\n",
       "<p>178 rows × 5 columns</p>\n",
       "</div>"
      ],
      "text/plain": [
       "     post_id                                              Title  \\\n",
       "0    10s71tx  Thoughts on AMZN, AAPL, GOOGL at market open t...   \n",
       "1     z7ytgm                  I just bought elongated puts AAPL   \n",
       "2     ztoj34  The stock market should NOT bottom until $AAPL...   \n",
       "3    10mdnjo      SQQQ Feb1 before AAPL sets the world on fire?   \n",
       "4    10ejmg7  Race to dominate AI tech: Comparing MSFT, GOOG...   \n",
       "..       ...                                                ...   \n",
       "173   zqlzo4     $AAPL (Apple) breakdown trade today for +2.8 R   \n",
       "174   vtscmo                         Day trading AAPL with 100k   \n",
       "175   uac3rp  In reality, do SPY stocks (eg AAPL) or futures...   \n",
       "176  102nc19                                    Apple Gap Fill?   \n",
       "177   y3t4py       Why do you think Apple took down MetaTrader?   \n",
       "\n",
       "                    Time  Tendency           Username  \n",
       "0    2023-02-02 20:20:20         1     IT_lurks_below  \n",
       "1    2022-11-29 11:34:17         1      Endoskeleton1  \n",
       "2    2022-12-23 13:05:19         1         Degenereth  \n",
       "3    2023-01-27 00:57:31         1  Lurking_In_A_Cape  \n",
       "4    2023-01-17 13:35:01         1      OliveInvestor  \n",
       "..                   ...       ...                ...  \n",
       "173  2022-12-20 06:26:15         1        supertexter  \n",
       "174  2022-07-07 16:34:37         1          garruslol  \n",
       "175  2022-04-23 14:50:14         1           dizzydes  \n",
       "176  2023-01-03 18:36:17         0         Scalper_91  \n",
       "177  2022-10-14 08:51:13         0          Lilipad42  \n",
       "\n",
       "[178 rows x 5 columns]"
      ]
     },
     "execution_count": 12,
     "metadata": {},
     "output_type": "execute_result"
    }
   ],
   "source": [
    "c = pandas.read_csv('Fixed_data.csv')\n",
    "c"
   ]
  },
  {
   "cell_type": "markdown",
   "id": "82a39633",
   "metadata": {},
   "source": [
    "## Part 3: Visualiztions"
   ]
  },
  {
   "cell_type": "markdown",
   "id": "d1ec0d83",
   "metadata": {},
   "source": [
    "Now that we have data and have done analysis on it, we attempted to visualize it. We selected a few users and put their recommendation on a graph. To attempt to answer one of our questions, we designed a function for calculating \"Sharpe's Ratio\". Sharpe ratio divides a portfolio's excess returns by a measure of its volatility to assess risk-adjusted performance. At this point of the project, we were only handling a single post for one user, so we were not able to impelement it at this stage."
   ]
  },
  {
   "cell_type": "code",
   "execution_count": 16,
   "id": "a41624b5",
   "metadata": {},
   "outputs": [],
   "source": [
    "def calc_sharpe_ratio(df):\n",
    "    # Iterate over each row in the dataframe\n",
    "    for index, row in df.iterrows():\n",
    "        # Get the purchase time\n",
    "        purchase_time = pandas.to_datetime(row['Time'])\n",
    "        \n",
    "        # Get the ticker symbol\n",
    "        ticker_symbol = 'AAPL'\n",
    "        \n",
    "        # Get the closest stock data to the purchase time\n",
    "        stock_data = yf.download(ticker_symbol, start=purchase_time.date())\n",
    "        stock_data = stock_data.iloc[np.argmin(np.abs(stock_data.index.values - purchase_time.to_numpy()))]\n",
    "\n",
    "        \n",
    "        # Convert the purchase price to float\n",
    "        purchase_price = float(row['Tendency'])\n",
    "        \n",
    "        # Calculate the daily return\n",
    "        close_price = stock_data['Close']\n",
    "        daily_return = close_price.pct_change().iloc[-1]\n",
    "        \n",
    "        # Calculate the standard deviation of daily returns\n",
    "        daily_returns = close_price.pct_change().dropna()\n",
    "        std_daily_returns = np.std(daily_returns)\n",
    "        \n",
    "        # Calculate the sharpe ratio\n",
    "        sharpe_ratio = (daily_return - 0.005) / std_daily_returns\n",
    "        \n",
    "        # Update the dataframe with the sharpe ratio\n",
    "        df.at[index, 'Sharpe Ratio'] = sharpe_ratio\n",
    "    \n",
    "    return df"
   ]
  },
  {
   "cell_type": "markdown",
   "id": "cd631451",
   "metadata": {},
   "source": [
    "Next, we created a function that takes the data and plots users against the stock graph. We imported the `yfinance` library to help us. For reasons that will be explained towards the end, we selected only a few users and did not display their username on the graph."
   ]
  },
  {
   "cell_type": "code",
   "execution_count": 19,
   "id": "44d125d8",
   "metadata": {},
   "outputs": [],
   "source": [
    "\n",
    "\n",
    "def plot_stock_and_comments(df):\n",
    "    # Get the Apple Inc. stock data from Yahoo Finance for the past year\n",
    "    stock_data = yf.download(\"AAPL\", period=\"2y\", interval = \"1d\")\n",
    "    \n",
    "    # Create a plot for the stock data\n",
    "    fig, ax = plt.subplots()\n",
    "    ax.plot(stock_data['Close'], label=\"AAPL\")\n",
    "    \n",
    "    # Loop through each comment in the dataframe\n",
    "    for i, row in df.iterrows():\n",
    "        # Convert the time string in the comment to a datetime object\n",
    "        comment_time = datetime.strptime(row['Time'], \"%Y-%m-%d %H:%M:%S\")\n",
    "        # Get the stock data for the comment date\n",
    "        price = stock_data.loc[str(comment_time.date())]\n",
    "        stock_price = stock_data.loc[str(comment_time.date())]['Close']\n",
    "        \n",
    "        # Add a marker on the plot for the comment date and tendency\n",
    "        if row['Tendency'] == 'positive':\n",
    "            ax.plot(comment_time, stock_price, 'go')\n",
    "        elif row['Tendency'] == 'negative':\n",
    "            ax.plot(comment_time, stock_price, 'ro')\n",
    "        else:\n",
    "            ax.plot(comment_time, stock_price, 'yo')\n",
    "        \n",
    "        # Add the comment title as a label to the marker\n",
    "        ax.annotate(str(i), (comment_time, stock_price))\n",
    "    \n",
    "    # Set the plot title and axis labels\n",
    "    ax.set_title(\"Apple Inc. Stock Data and Comments\")\n",
    "    ax.set_xlabel(\"Date\")\n",
    "    ax.set_ylabel(\"Stock Price\")\n",
    "    plt.plot()\n",
    "    # Save the plot as a file\n",
    "    # fig.savefig(\"apple_comments.png\")\n",
    "\n"
   ]
  },
  {
   "cell_type": "markdown",
   "id": "cfe5901b",
   "metadata": {},
   "source": [
    "## Part 4: Findings and Review"
   ]
  },
  {
   "cell_type": "markdown",
   "id": "036dd8bf",
   "metadata": {},
   "source": [
    "For this second part, we successfully scraped data from Reddit using the API, were able to conduct basic sentiment analysis on Reddit posts, and were able to graph the results of our analysis to a graph. We made major progress during this part, but had a few setbacks and lessons that we will have to take into account to refine it more.\n",
    "\n",
    "One of the problems we came across, is that not all users have appropriate usernames. We were not able to showcase a lot of the users do this, and opted to select a few users and just use their index in the dataframe. Therefore we will have to account for that in the next part. \n",
    "\n",
    "The second problem is that we need to develop a more thorough sentiment analysis algorithm. We encountered some posts that didn't have enough words to analyze, or were just links. We will have to filter and account for these posts in the future.\n",
    "\n",
    "The third problem we came across is that there were some errors with our graphing function. It succesfully graphs the stock data and the points. It has to do with how we pass on and process the data structure in this function.\n",
    "\n",
    "The fourth problem that we will elaborate on next, is that we were unable to apply Sharpe's ratio as we wanted to. The Reddit API would rate-limit our requests a lot, so it would take a while to get all the comments and posts. Therefore, we chose just use one post per user, to get foundations of our research correct."
   ]
  },
  {
   "cell_type": "markdown",
   "id": "79bc016d",
   "metadata": {},
   "source": [
    "Now, let's take a look at the questions we had in Part 1."
   ]
  },
  {
   "cell_type": "markdown",
   "id": "afc85405",
   "metadata": {},
   "source": [
    "**\"Can we determine if a user gives good investment advice based on which stock they support and when they give that adivce. Comparing it to the stock's price at that date and the current stock price.\"**\n",
    "\n",
    "We were able to deciper user advice from the language of their post, and were able to get the graph data as well. We were unable to vizualize the relationship between these, and will continue to work on it."
   ]
  },
  {
   "cell_type": "markdown",
   "id": "a1f418c2",
   "metadata": {},
   "source": [
    "**\"Can we apply Sharpe's Ratio to a users investment adivce over time to score the quality of their advice\"**\n",
    "\n",
    "We were not able to apply Sharpe's ratio at this stage due to limiting one post per user.\n"
   ]
  },
  {
   "cell_type": "markdown",
   "id": "76b2459c",
   "metadata": {},
   "source": [
    "**\"How accurate and reliable is investment advice shared on Reddit compared to advice from professional financial advisors?\"**\n",
    "\n",
    "This part is yet to be determined after we do a holistic review of our data when use multiple stock tickers instead of one."
   ]
  },
  {
   "cell_type": "markdown",
   "id": "217c130c",
   "metadata": {},
   "source": [
    "## Report Part 2 Conclusion"
   ]
  },
  {
   "cell_type": "markdown",
   "id": "a42033bf",
   "metadata": {},
   "source": [
    "In conclusion, we were able to build the framework and understand what is necessary in order to complete a thorough analysis on our topic. We encountered many logical and technical errors along the way that will need to be addressed in this upcoming stage. We were not able to answer all of our questions just yet, but look forward to doing so soon. We stay committed to our original goal and hope to be able turn this data into an interesting report for readers."
   ]
  },
  {
   "cell_type": "markdown",
   "id": "776699fd",
   "metadata": {},
   "source": [
    "## Part 2 Contribution"
   ]
  },
  {
   "cell_type": "markdown",
   "id": "e76dac13",
   "metadata": {},
   "source": [
    "Web Scraping and Report - Ariq Rashid(ariqr) and Minh Tran(minhtran1379)"
   ]
  },
  {
   "cell_type": "markdown",
   "id": "03cac3c5",
   "metadata": {},
   "source": [
    "Sentiment Analysis - Sihua Kang(sihuak) and Lingyu Zhou (lingyuz)"
   ]
  },
  {
   "cell_type": "markdown",
   "id": "29f2ced8",
   "metadata": {},
   "source": [
    "Sharpe Ration and Visualiztion -  Bailey McKelway (baileymckelway)"
   ]
  },
  {
   "cell_type": "markdown",
   "id": "bb88699d",
   "metadata": {},
   "source": [
    "# Part 3: Second Pass through and Conclusions"
   ]
  },
  {
   "cell_type": "markdown",
   "id": "8fa45068",
   "metadata": {},
   "source": [
    "We now have all the tools needed to effectively compile and analyze the data in order to answer the questions we had. First, we had to refine our scrapping process.\n",
    "\n",
    "Previously, we were just simply searching for one user mentioning one stock. In order to accurately tell which user gave the best \"advice\" they need to have a history of talking about multiple stocks. Therefore, we had to find users who talked about more than one stock. Modification of our previous functions was needed, and was changed so that it checks if a post meets our criteria of having text.\n"
   ]
  },
  {
   "cell_type": "code",
   "execution_count": null,
   "id": "6a116c84",
   "metadata": {},
   "outputs": [],
   "source": [
    "def is_valid_post(post):\n",
    "    \"\"\"\n",
    "    Returns True if the post has 4 or more words, is not an image, is not only a link, and is not made by a bot or Automoderator.\n",
    "    \"\"\"\n",
    "    if post.is_self:  # Check if the post is a text post\n",
    "        # Split the post text into words and check if the length of the resulting list is >= 4\n",
    "        if len(post.selftext.split()) >= 4:\n",
    "            return True\n",
    "    elif post.url.endswith('.jpg') or post.url.endswith('.png'):  # Check if the post is an image\n",
    "        return False\n",
    "    elif post.url == post.permalink:  # Check if the post is only a link to itself\n",
    "        return False\n",
    "    else:\n",
    "        user = post.author\n",
    "        if user and (user.name.lower() == 'automoderator' or 'bot' in user.name.lower()):\n",
    "            return False\n",
    "        else:\n",
    "            return True"
   ]
  },
  {
   "cell_type": "markdown",
   "id": "d9ddc290",
   "metadata": {},
   "source": [
    "Our search_for_ticker function was renamed and modified to search_for_ticker_posts because now we want to be able to store multiple posts to a single user.\n"
   ]
  },
  {
   "cell_type": "code",
   "execution_count": null,
   "id": "d70a46fd",
   "metadata": {},
   "outputs": [],
   "source": [
    "'''\n",
    "Parameters: ticker - ticker to search for\n",
    "            subreddit - subreddit to search through\n",
    "            user_dict - dictionary of user with posts mentioning ticker\n",
    "            time - how far back to search (day, week, month, year)\n",
    "'''\n",
    "def search_for_ticker_posts(ticker, subreddit, user_dict, time_frame):\n",
    "    \n",
    "    search_results = subreddit.search(f'title:{ticker}', time_filter=time_frame)\n",
    "    \n",
    "    #Loops through each post that matches the search result\n",
    "    for post in search_results:\n",
    "        \n",
    "        if is_valid_post(post):\n",
    "            author = post.author.name\n",
    "            post_id = post.id\n",
    "                \n",
    "            #Checks if author is already in dictionary\n",
    "            if (author not in user_dict):\n",
    "                user_dict[author] = []\n",
    "                    \n",
    "            if post_id not in user_dict[author]:\n",
    "                user_dict[author].append(post_id)\n"
   ]
  },
  {
   "cell_type": "markdown",
   "id": "fe094226",
   "metadata": {},
   "source": [
    "Instead of searching and analyzing one stock, multiple was necessary. We chose 8 of some of the most popular stocks mentioned on reddit, as mentioned on. https://www.finder.com/reddit-stocks-to-buy"
   ]
  },
  {
   "cell_type": "code",
   "execution_count": null,
   "id": "577c8f91",
   "metadata": {},
   "outputs": [],
   "source": [
    "tickers = ['AAPL', 'TSLA', 'AMD', 'AMZN', 'MSFT', 'NVDA', 'NFLX', 'META']\n",
    "\n",
    "tsla_tickers = ['TSLA', 'Tesla', 'tesla', 'TESLA']\n",
    "appl_tickers = ['AAPL', 'APPLE', 'Apple','apple']\n",
    "amd_tickers = ['AMD', 'amd']\n",
    "msft_tickers = ['MSFT', 'MICROSOFT', 'Microsoft']\n",
    "amzn_tickers = ['AMZN', 'Amazon', 'amazon', 'AMAZON']\n",
    "nvda_tickers = ['NVDA','nvda', 'NVDIA', 'Nvdia']\n",
    "nflx_tickers = ['NFLX', 'nflx', 'NETFLIX', 'Netflix']\n",
    "meta_tickers = ['META', 'Meta', 'meta']"
   ]
  },
  {
   "cell_type": "markdown",
   "id": "4bfc8b76",
   "metadata": {},
   "source": [
    "We searched through the same 5 subreddits as before, and needed to created 8 dictionaries now. This process take a little bit of time, since it needs to scrape through a year's worth of posts at least 8 times per subreddit. Therefore, we wanted to collect the data only once and save it, so that we do not have to keep calling upon the API everytime. Also, as each day passes, we may lose and gain new posts in each dictionary, since it will not be searching the exact same time frame. Then, a list of all the dictionaries are made.\n"
   ]
  },
  {
   "cell_type": "code",
   "execution_count": null,
   "id": "92e76ac7",
   "metadata": {},
   "outputs": [],
   "source": [
    "tsla_dict= search_from_subs(tsla_tickers, subreddits, \"year\")\n",
    "appl_dict= search_from_subs(appl_tickers, subreddits, \"year\")\n",
    "msft_dict= search_from_subs(msft_tickers, subreddits, \"year\")\n",
    "amzn_dict= search_from_subs(amzn_tickers, subreddits, \"year\")\n",
    "nvda_dict= search_from_subs(nvda_tickers, subreddits, \"year\")\n",
    "nflx_dict= search_from_subs(nflx_tickers, subreddits, \"year\")\n",
    "meta_dict= search_from_subs(meta_tickers, subreddits, \"year\")\n",
    "\n",
    "dict_list = [appl_dict, tsla_dict, amd_dict, amzn_dict, msft_dict, nvda_dict, nflx_dict, meta_dict]"
   ]
  },
  {
   "cell_type": "markdown",
   "id": "dd3452ec",
   "metadata": {},
   "source": [
    "Next, we wanted only keep users who have posted about 2 or more of thes stocks. A function called create_user_post_df, It takes a list of dictionaries and essentially finds the common keys amongst them, then puts their values into individual columns.\n"
   ]
  },
  {
   "cell_type": "code",
   "execution_count": null,
   "id": "03a33720",
   "metadata": {},
   "outputs": [],
   "source": [
    "def create_user_post_df(dict_list):\n",
    "    # Create a set of all unique usernames\n",
    "    all_users = set()\n",
    "    for dictionary in dict_list:\n",
    "        all_users.update(dictionary.keys())\n",
    "\n",
    "    # Create a dictionary with each username as the key and an empty dictionary as the value\n",
    "    user_post_dict = {user: {} for user in all_users}\n",
    "\n",
    "    # Iterate through each dictionary in the list\n",
    "    for i, dictionary in enumerate(dict_list):\n",
    "        # Iterate through each user in the dictionary\n",
    "        for user in dictionary:\n",
    "            # Iterate through each post_id for the user\n",
    "            for post_id in dictionary[user]:\n",
    "                # Add the dictionary name as a column and the post_id as a value in the corresponding row\n",
    "                user_post_dict[user].setdefault(i, []).append(post_id)\n",
    "                \n",
    "    # Fill any missing user keys with an empty dictionary\n",
    "    for user in all_users:\n",
    "        if user not in user_post_dict:\n",
    "            user_post_dict[user] = {}\n",
    "                \n",
    "    # Convert the user_post_dict to a DataFrame\n",
    "    df = pd.DataFrame.from_dict(user_post_dict, orient='index')\n",
    "    # Rename the columns with the corresponding dictionary names\n",
    "    df.columns = [f\"dict_{i}\" for i in range(len(dict_list))]\n",
    "\n",
    "    return df"
   ]
  },
  {
   "cell_type": "markdown",
   "id": "c41ac96d",
   "metadata": {},
   "source": [
    "We created the dataframe using the new function, then we needed to rename the columns to their appropriate stock tickers. Finally, we had to save it to a csv so we can have easy access to the data.\n"
   ]
  },
  {
   "cell_type": "code",
   "execution_count": null,
   "id": "bbfa6a6a",
   "metadata": {},
   "outputs": [],
   "source": [
    "dataframe = create_user_post_df(dict_list)\n",
    "\n",
    "dataframe = dataframe.rename(columns={'dict_0': '$AAPL', 'dict_1': '$AMZN', 'dict_2': '$META', 'dict_3' : '$NFLX',\n",
    "                                'dict_4': '$TSLA', 'dict_5': '$GOOGL', 'dict_6':'$NVDA', 'dict_7':'$AMD'})\n",
    "\n",
    "dataframe_two = dataframe.dropna(thresh=2)\n",
    "dataframe_two.to_csv('user-and-posts-data.csv', index = True)"
   ]
  },
  {
   "cell_type": "markdown",
   "id": "06fe2a42",
   "metadata": {},
   "source": [
    "We now had a proper dataset to analyze.\n"
   ]
  },
  {
   "cell_type": "code",
   "execution_count": 7,
   "id": "7c9071e3",
   "metadata": {},
   "outputs": [
    {
     "data": {
      "text/html": [
       "<div>\n",
       "<style scoped>\n",
       "    .dataframe tbody tr th:only-of-type {\n",
       "        vertical-align: middle;\n",
       "    }\n",
       "\n",
       "    .dataframe tbody tr th {\n",
       "        vertical-align: top;\n",
       "    }\n",
       "\n",
       "    .dataframe thead th {\n",
       "        text-align: right;\n",
       "    }\n",
       "</style>\n",
       "<table border=\"1\" class=\"dataframe\">\n",
       "  <thead>\n",
       "    <tr style=\"text-align: right;\">\n",
       "      <th></th>\n",
       "      <th>$AAPL</th>\n",
       "      <th>$AMZN</th>\n",
       "      <th>$META</th>\n",
       "      <th>$NFLX</th>\n",
       "      <th>$TSLA</th>\n",
       "      <th>$GOOGL</th>\n",
       "      <th>$NVDA</th>\n",
       "      <th>$AMD</th>\n",
       "    </tr>\n",
       "  </thead>\n",
       "  <tbody>\n",
       "    <tr>\n",
       "      <th>AP9384629344432</th>\n",
       "      <td>['y9xr61']</td>\n",
       "      <td>['ugx8u8']</td>\n",
       "      <td>['udcu5q']</td>\n",
       "      <td>NaN</td>\n",
       "      <td>NaN</td>\n",
       "      <td>NaN</td>\n",
       "      <td>NaN</td>\n",
       "      <td>NaN</td>\n",
       "    </tr>\n",
       "    <tr>\n",
       "      <th>Not_FinancialAdvice</th>\n",
       "      <td>['use3jf']</td>\n",
       "      <td>NaN</td>\n",
       "      <td>NaN</td>\n",
       "      <td>NaN</td>\n",
       "      <td>NaN</td>\n",
       "      <td>['zg8c32']</td>\n",
       "      <td>NaN</td>\n",
       "      <td>NaN</td>\n",
       "    </tr>\n",
       "    <tr>\n",
       "      <th>WickedSensitiveCrew</th>\n",
       "      <td>['12qwfjn', 'zvzi00', '10jckme', 'zbtscx', 'yd...</td>\n",
       "      <td>['zvzi00', 'zbq9l8', 'uvdh4x']</td>\n",
       "      <td>['zvzi00']</td>\n",
       "      <td>NaN</td>\n",
       "      <td>['12ekzkx']</td>\n",
       "      <td>['1154egt', 'zrouhg', 'zvzi00', 'v8hln1']</td>\n",
       "      <td>NaN</td>\n",
       "      <td>NaN</td>\n",
       "    </tr>\n",
       "    <tr>\n",
       "      <th>stock_122</th>\n",
       "      <td>['zx9zfc']</td>\n",
       "      <td>NaN</td>\n",
       "      <td>NaN</td>\n",
       "      <td>NaN</td>\n",
       "      <td>NaN</td>\n",
       "      <td>NaN</td>\n",
       "      <td>['zrkv2i']</td>\n",
       "      <td>['zrkv2i']</td>\n",
       "    </tr>\n",
       "    <tr>\n",
       "      <th>AwesomeMathUse</th>\n",
       "      <td>['ue4ooi']</td>\n",
       "      <td>NaN</td>\n",
       "      <td>['10ran75']</td>\n",
       "      <td>NaN</td>\n",
       "      <td>NaN</td>\n",
       "      <td>NaN</td>\n",
       "      <td>NaN</td>\n",
       "      <td>NaN</td>\n",
       "    </tr>\n",
       "  </tbody>\n",
       "</table>\n",
       "</div>"
      ],
      "text/plain": [
       "                                                                 $AAPL  \\\n",
       "AP9384629344432                                             ['y9xr61']   \n",
       "Not_FinancialAdvice                                         ['use3jf']   \n",
       "WickedSensitiveCrew  ['12qwfjn', 'zvzi00', '10jckme', 'zbtscx', 'yd...   \n",
       "stock_122                                                   ['zx9zfc']   \n",
       "AwesomeMathUse                                              ['ue4ooi']   \n",
       "\n",
       "                                              $AMZN        $META $NFLX  \\\n",
       "AP9384629344432                          ['ugx8u8']   ['udcu5q']   NaN   \n",
       "Not_FinancialAdvice                             NaN          NaN   NaN   \n",
       "WickedSensitiveCrew  ['zvzi00', 'zbq9l8', 'uvdh4x']   ['zvzi00']   NaN   \n",
       "stock_122                                       NaN          NaN   NaN   \n",
       "AwesomeMathUse                                  NaN  ['10ran75']   NaN   \n",
       "\n",
       "                           $TSLA                                     $GOOGL  \\\n",
       "AP9384629344432              NaN                                        NaN   \n",
       "Not_FinancialAdvice          NaN                                 ['zg8c32']   \n",
       "WickedSensitiveCrew  ['12ekzkx']  ['1154egt', 'zrouhg', 'zvzi00', 'v8hln1']   \n",
       "stock_122                    NaN                                        NaN   \n",
       "AwesomeMathUse               NaN                                        NaN   \n",
       "\n",
       "                          $NVDA        $AMD  \n",
       "AP9384629344432             NaN         NaN  \n",
       "Not_FinancialAdvice         NaN         NaN  \n",
       "WickedSensitiveCrew         NaN         NaN  \n",
       "stock_122            ['zrkv2i']  ['zrkv2i']  \n",
       "AwesomeMathUse              NaN         NaN  "
      ]
     },
     "execution_count": 7,
     "metadata": {},
     "output_type": "execute_result"
    }
   ],
   "source": [
    "df = pd.read_csv('user-and-posts-data.csv', index_col=0)\n",
    "\n",
    "df.head()"
   ]
  },
  {
   "cell_type": "markdown",
   "id": "7cd78da9",
   "metadata": {},
   "source": [
    "Since we would be analyzing multiple posts per user, we wanted to keep track of which stock they were talking about in that post. We decided to make a similar dataframe but instead of post_ids, it would be the data of each post such as its title, date posted, and its sentiment."
   ]
  },
  {
   "cell_type": "code",
   "execution_count": null,
   "id": "d571d7b5",
   "metadata": {},
   "outputs": [],
   "source": [
    "def Make_Dictionary(post, ticker):\n",
    "    \n",
    "    red = reddit.submission(id=post)\n",
    "    text = red.selftext\n",
    "    date = datetime.fromtimestamp(red.created_utc)\n",
    "    tittle = red.title\n",
    "    subreddit = red.subreddit\n",
    "    contant_tendency = Analysis_tendency(text)\n",
    "    tittle_tendency = Analysis_tendency(tittle)\n",
    "    total = tittle + text\n",
    "    total_tendency = Analysis_tendency(total)\n",
    "    Dict = dict([('tittle', tittle),('text', text),('date', date),('ticker', ticker),('subreddit', subreddit),\n",
    "                 ('text_sentiment', contant_tendency),('tittle_sentiment', tittle_tendency),('sentiment', total_tendency)])\n",
    "    \n",
    "    return Dict"
   ]
  },
  {
   "cell_type": "markdown",
   "id": "93f23b3e",
   "metadata": {},
   "source": [
    "Then we needed to read through each column and and apply it to each it post, as seen below."
   ]
  },
  {
   "cell_type": "code",
   "execution_count": null,
   "id": "6ab904db",
   "metadata": {},
   "outputs": [],
   "source": [
    "def Switch_list(lis, ticker):\n",
    "    if lis == 0:\n",
    "        return 0\n",
    "    new_list = []\n",
    "    l = ast.literal_eval(lis)\n",
    "    for post in l:\n",
    "        dic = Make_Dictionary(post, ticker)\n",
    "        new_list.append(dic)\n",
    "        \n",
    "    return new_list"
   ]
  },
  {
   "cell_type": "code",
   "execution_count": null,
   "id": "b64f49ea",
   "metadata": {},
   "outputs": [],
   "source": [
    "df_two = df.copy()"
   ]
  },
  {
   "cell_type": "code",
   "execution_count": null,
   "id": "a4cf4b70",
   "metadata": {},
   "outputs": [],
   "source": [
    "df_two['$AAPL'] = df['$AAPL'].apply(lambda x: Switch_list(x, '$AAPL'))\n",
    "df_two['$AMZN'] =  df['$AMZN'].apply(lambda x: Switch_list(x, '$AMZN'))\n",
    "df_two['$META'] =  df['$META'].apply(lambda x: Switch_list(x, '$META'))\n",
    "df_two['$NFLX'] =  df['$NFLX'].apply(lambda x: Switch_list(x, '$NFLX'))\n",
    "df_two['$TSLA'] =  df['$TSLA'].apply(lambda x: Switch_list(x, '$TSLA'))\n",
    "df_two['$GOOGL'] =  df['$GOOGL'].apply(lambda x: Switch_list(x, '$GOOGL'))\n",
    "df_two['$NVDA'] =  df['$NVDA'].apply(lambda x: Switch_list(x, '$NVDA'))\n",
    "df_two['$AMD'] =  df['$AMD'].apply(lambda x: Switch_list(x, '$AMD'))"
   ]
  },
  {
   "cell_type": "markdown",
   "id": "1f47925d",
   "metadata": {},
   "source": [
    "We saved this dataframe to a csv, because this was a another lenghty process that used the API. After this point, we will not be needing the API anymore."
   ]
  },
  {
   "cell_type": "code",
   "execution_count": null,
   "id": "110ef956",
   "metadata": {},
   "outputs": [],
   "source": [
    "df_two.to_csv('update_data.csv', index=True)"
   ]
  },
  {
   "cell_type": "code",
   "execution_count": 8,
   "id": "3a25650c",
   "metadata": {},
   "outputs": [
    {
     "data": {
      "text/html": [
       "<div>\n",
       "<style scoped>\n",
       "    .dataframe tbody tr th:only-of-type {\n",
       "        vertical-align: middle;\n",
       "    }\n",
       "\n",
       "    .dataframe tbody tr th {\n",
       "        vertical-align: top;\n",
       "    }\n",
       "\n",
       "    .dataframe thead th {\n",
       "        text-align: right;\n",
       "    }\n",
       "</style>\n",
       "<table border=\"1\" class=\"dataframe\">\n",
       "  <thead>\n",
       "    <tr style=\"text-align: right;\">\n",
       "      <th></th>\n",
       "      <th>$AAPL</th>\n",
       "      <th>$AMZN</th>\n",
       "      <th>$META</th>\n",
       "      <th>$NFLX</th>\n",
       "      <th>$TSLA</th>\n",
       "      <th>$GOOGL</th>\n",
       "      <th>$NVDA</th>\n",
       "      <th>$AMD</th>\n",
       "    </tr>\n",
       "  </thead>\n",
       "  <tbody>\n",
       "    <tr>\n",
       "      <th>AP9384629344432</th>\n",
       "      <td>[{'tittle': \"There's more to index funds and s...</td>\n",
       "      <td>[{'tittle': 'WSJ: Amazon Workers Reject Union ...</td>\n",
       "      <td>[{'tittle': 'Shares of Facebook parent Meta ju...</td>\n",
       "      <td>0</td>\n",
       "      <td>0</td>\n",
       "      <td>0</td>\n",
       "      <td>0</td>\n",
       "      <td>0</td>\n",
       "    </tr>\n",
       "    <tr>\n",
       "      <th>Not_FinancialAdvice</th>\n",
       "      <td>[{'tittle': 'Michael Burry vs Warren Buffett o...</td>\n",
       "      <td>0</td>\n",
       "      <td>0</td>\n",
       "      <td>0</td>\n",
       "      <td>0</td>\n",
       "      <td>[{'tittle': 'FTC sues to block Microsoft’s acq...</td>\n",
       "      <td>0</td>\n",
       "      <td>0</td>\n",
       "    </tr>\n",
       "    <tr>\n",
       "      <th>WickedSensitiveCrew</th>\n",
       "      <td>[{'tittle': 'Goldman Sachs is watching for ‘ca...</td>\n",
       "      <td>[{'tittle': 'Meta and Alphabet lose dominance ...</td>\n",
       "      <td>[{'tittle': 'Meta and Alphabet lose dominance ...</td>\n",
       "      <td>0</td>\n",
       "      <td>[{'tittle': 'Tesla cuts U.S. prices for fifth ...</td>\n",
       "      <td>[{'tittle': 'Microsoft limits Bing A.I. chats ...</td>\n",
       "      <td>0</td>\n",
       "      <td>0</td>\n",
       "    </tr>\n",
       "    <tr>\n",
       "      <th>stock_122</th>\n",
       "      <td>[{'tittle': '$V VS $MA VS $AAPL.... are $V and...</td>\n",
       "      <td>0</td>\n",
       "      <td>0</td>\n",
       "      <td>0</td>\n",
       "      <td>0</td>\n",
       "      <td>0</td>\n",
       "      <td>[{'tittle': 'Which one would you buy the dip? ...</td>\n",
       "      <td>[{'tittle': 'Which one would you buy the dip? ...</td>\n",
       "    </tr>\n",
       "    <tr>\n",
       "      <th>AwesomeMathUse</th>\n",
       "      <td>[{'tittle': 'Apple Reports Second Quarter Resu...</td>\n",
       "      <td>0</td>\n",
       "      <td>[{'tittle': 'Meta reports 22Q4 and FY22 financ...</td>\n",
       "      <td>0</td>\n",
       "      <td>0</td>\n",
       "      <td>0</td>\n",
       "      <td>0</td>\n",
       "      <td>0</td>\n",
       "    </tr>\n",
       "    <tr>\n",
       "      <th>...</th>\n",
       "      <td>...</td>\n",
       "      <td>...</td>\n",
       "      <td>...</td>\n",
       "      <td>...</td>\n",
       "      <td>...</td>\n",
       "      <td>...</td>\n",
       "      <td>...</td>\n",
       "      <td>...</td>\n",
       "    </tr>\n",
       "    <tr>\n",
       "      <th>RememberYo</th>\n",
       "      <td>0</td>\n",
       "      <td>0</td>\n",
       "      <td>0</td>\n",
       "      <td>0</td>\n",
       "      <td>0</td>\n",
       "      <td>0</td>\n",
       "      <td>[{'tittle': 'Should I sell my NVDA shares are ...</td>\n",
       "      <td>[{'tittle': 'I can confirm AMD has touched us ...</td>\n",
       "    </tr>\n",
       "    <tr>\n",
       "      <th>Virus4762</th>\n",
       "      <td>0</td>\n",
       "      <td>0</td>\n",
       "      <td>0</td>\n",
       "      <td>0</td>\n",
       "      <td>0</td>\n",
       "      <td>0</td>\n",
       "      <td>[{'tittle': 'How does AMD compare to NVDA?', '...</td>\n",
       "      <td>[{'tittle': 'How does AMD compare to NVDA?', '...</td>\n",
       "    </tr>\n",
       "    <tr>\n",
       "      <th>dumbledoreRothIRA</th>\n",
       "      <td>0</td>\n",
       "      <td>0</td>\n",
       "      <td>0</td>\n",
       "      <td>0</td>\n",
       "      <td>0</td>\n",
       "      <td>0</td>\n",
       "      <td>[{'tittle': '$25.7K YOLO on AMD NVDA, my gf is...</td>\n",
       "      <td>[{'tittle': '$25.7K YOLO on AMD NVDA, my gf is...</td>\n",
       "    </tr>\n",
       "    <tr>\n",
       "      <th>Thurmulx</th>\n",
       "      <td>0</td>\n",
       "      <td>0</td>\n",
       "      <td>0</td>\n",
       "      <td>0</td>\n",
       "      <td>0</td>\n",
       "      <td>0</td>\n",
       "      <td>[{'tittle': 'NVDA vs AMD? Which to purchase?',...</td>\n",
       "      <td>[{'tittle': 'NVDA vs AMD? Which to purchase?',...</td>\n",
       "    </tr>\n",
       "    <tr>\n",
       "      <th>Makhann007</th>\n",
       "      <td>0</td>\n",
       "      <td>0</td>\n",
       "      <td>0</td>\n",
       "      <td>0</td>\n",
       "      <td>0</td>\n",
       "      <td>0</td>\n",
       "      <td>[{'tittle': 'NVDA, AMD, MU et. al', 'text': 'W...</td>\n",
       "      <td>[{'tittle': 'NVDA, AMD, MU et. al', 'text': 'W...</td>\n",
       "    </tr>\n",
       "  </tbody>\n",
       "</table>\n",
       "<p>147 rows × 8 columns</p>\n",
       "</div>"
      ],
      "text/plain": [
       "                                                                 $AAPL  \\\n",
       "AP9384629344432      [{'tittle': \"There's more to index funds and s...   \n",
       "Not_FinancialAdvice  [{'tittle': 'Michael Burry vs Warren Buffett o...   \n",
       "WickedSensitiveCrew  [{'tittle': 'Goldman Sachs is watching for ‘ca...   \n",
       "stock_122            [{'tittle': '$V VS $MA VS $AAPL.... are $V and...   \n",
       "AwesomeMathUse       [{'tittle': 'Apple Reports Second Quarter Resu...   \n",
       "...                                                                ...   \n",
       "RememberYo                                                           0   \n",
       "Virus4762                                                            0   \n",
       "dumbledoreRothIRA                                                    0   \n",
       "Thurmulx                                                             0   \n",
       "Makhann007                                                           0   \n",
       "\n",
       "                                                                 $AMZN  \\\n",
       "AP9384629344432      [{'tittle': 'WSJ: Amazon Workers Reject Union ...   \n",
       "Not_FinancialAdvice                                                  0   \n",
       "WickedSensitiveCrew  [{'tittle': 'Meta and Alphabet lose dominance ...   \n",
       "stock_122                                                            0   \n",
       "AwesomeMathUse                                                       0   \n",
       "...                                                                ...   \n",
       "RememberYo                                                           0   \n",
       "Virus4762                                                            0   \n",
       "dumbledoreRothIRA                                                    0   \n",
       "Thurmulx                                                             0   \n",
       "Makhann007                                                           0   \n",
       "\n",
       "                                                                 $META $NFLX  \\\n",
       "AP9384629344432      [{'tittle': 'Shares of Facebook parent Meta ju...     0   \n",
       "Not_FinancialAdvice                                                  0     0   \n",
       "WickedSensitiveCrew  [{'tittle': 'Meta and Alphabet lose dominance ...     0   \n",
       "stock_122                                                            0     0   \n",
       "AwesomeMathUse       [{'tittle': 'Meta reports 22Q4 and FY22 financ...     0   \n",
       "...                                                                ...   ...   \n",
       "RememberYo                                                           0     0   \n",
       "Virus4762                                                            0     0   \n",
       "dumbledoreRothIRA                                                    0     0   \n",
       "Thurmulx                                                             0     0   \n",
       "Makhann007                                                           0     0   \n",
       "\n",
       "                                                                 $TSLA  \\\n",
       "AP9384629344432                                                      0   \n",
       "Not_FinancialAdvice                                                  0   \n",
       "WickedSensitiveCrew  [{'tittle': 'Tesla cuts U.S. prices for fifth ...   \n",
       "stock_122                                                            0   \n",
       "AwesomeMathUse                                                       0   \n",
       "...                                                                ...   \n",
       "RememberYo                                                           0   \n",
       "Virus4762                                                            0   \n",
       "dumbledoreRothIRA                                                    0   \n",
       "Thurmulx                                                             0   \n",
       "Makhann007                                                           0   \n",
       "\n",
       "                                                                $GOOGL  \\\n",
       "AP9384629344432                                                      0   \n",
       "Not_FinancialAdvice  [{'tittle': 'FTC sues to block Microsoft’s acq...   \n",
       "WickedSensitiveCrew  [{'tittle': 'Microsoft limits Bing A.I. chats ...   \n",
       "stock_122                                                            0   \n",
       "AwesomeMathUse                                                       0   \n",
       "...                                                                ...   \n",
       "RememberYo                                                           0   \n",
       "Virus4762                                                            0   \n",
       "dumbledoreRothIRA                                                    0   \n",
       "Thurmulx                                                             0   \n",
       "Makhann007                                                           0   \n",
       "\n",
       "                                                                 $NVDA  \\\n",
       "AP9384629344432                                                      0   \n",
       "Not_FinancialAdvice                                                  0   \n",
       "WickedSensitiveCrew                                                  0   \n",
       "stock_122            [{'tittle': 'Which one would you buy the dip? ...   \n",
       "AwesomeMathUse                                                       0   \n",
       "...                                                                ...   \n",
       "RememberYo           [{'tittle': 'Should I sell my NVDA shares are ...   \n",
       "Virus4762            [{'tittle': 'How does AMD compare to NVDA?', '...   \n",
       "dumbledoreRothIRA    [{'tittle': '$25.7K YOLO on AMD NVDA, my gf is...   \n",
       "Thurmulx             [{'tittle': 'NVDA vs AMD? Which to purchase?',...   \n",
       "Makhann007           [{'tittle': 'NVDA, AMD, MU et. al', 'text': 'W...   \n",
       "\n",
       "                                                                  $AMD  \n",
       "AP9384629344432                                                      0  \n",
       "Not_FinancialAdvice                                                  0  \n",
       "WickedSensitiveCrew                                                  0  \n",
       "stock_122            [{'tittle': 'Which one would you buy the dip? ...  \n",
       "AwesomeMathUse                                                       0  \n",
       "...                                                                ...  \n",
       "RememberYo           [{'tittle': 'I can confirm AMD has touched us ...  \n",
       "Virus4762            [{'tittle': 'How does AMD compare to NVDA?', '...  \n",
       "dumbledoreRothIRA    [{'tittle': '$25.7K YOLO on AMD NVDA, my gf is...  \n",
       "Thurmulx             [{'tittle': 'NVDA vs AMD? Which to purchase?',...  \n",
       "Makhann007           [{'tittle': 'NVDA, AMD, MU et. al', 'text': 'W...  \n",
       "\n",
       "[147 rows x 8 columns]"
      ]
     },
     "execution_count": 8,
     "metadata": {},
     "output_type": "execute_result"
    }
   ],
   "source": [
    "posts = pandas.read_csv('update_data.csv', index_col=0)\n",
    "\n",
    "posts"
   ]
  },
  {
   "cell_type": "markdown",
   "id": "107278ea",
   "metadata": {},
   "source": [
    "Now that we had data on each user, and their posts, we can calculate Sharpe's Ratio.The Sharpe ratio is typically used to compare the performance of different investments, portfolios, or strategies. A higher Sharpe ratio indicates better risk-adjusted performance, as it means that the investment is generating more return per unit of risk taken. We developed our own function in order calculate the ratio for each user."
   ]
  },
  {
   "cell_type": "code",
   "execution_count": null,
   "id": "ffb85e50",
   "metadata": {},
   "outputs": [],
   "source": [
    "current_date_time = datetime.now()\n",
    "def calculate_sharpe_ratio(person):\n",
    "    portfolio_value = 0\n",
    "    portfolio_return = 0\n",
    "    portfolio_volatility = 0\n",
    "    count = 0\n",
    "    for ticker, data in person.items():\n",
    "        if data != 0:\n",
    "            ticker = ticker[1:]\n",
    "            stock_data = yf.download(ticker, start=data[0]['date'], end=current_date_time)\n",
    "            stock_return = (stock_data['Close'].iloc[-1] - stock_data['Close'].iloc[0]) / stock_data['Close'].iloc[0]\n",
    "            stock_volatility = stock_data['Close'].pct_change().std() * (252 ** 0.5)\n",
    "            stock_weight = 1 / len(person)\n",
    "            if data[0]['sentiment'] == 0:\n",
    "                stock_return *= -1\n",
    "            portfolio_return += stock_return * stock_weight\n",
    "            portfolio_volatility += stock_volatility ** 2 * stock_weight ** 2\n",
    "    portfolio_volatility = portfolio_volatility ** 0.5\n",
    "    excess_return = portfolio_return - risk_free_rate\n",
    "    if portfolio_volatility == 0:\n",
    "        return 0\n",
    "    else:\n",
    "        sharpe_ratio = excess_return / portfolio_volatility\n",
    "        return sharpe_ratio"
   ]
  },
  {
   "cell_type": "markdown",
   "id": "3eb239ed",
   "metadata": {},
   "source": [
    "With this function, we created a new column in our dataframe. The Sharpe's ratio for each user."
   ]
  },
  {
   "cell_type": "code",
   "execution_count": null,
   "id": "e364356d",
   "metadata": {},
   "outputs": [],
   "source": [
    "posts['Sharpe Ratio'] = df.apply(calculate_sharpe_ratio, axis=1)\n",
    "posts = df.sort_values(by='Sharpe Ratio', ascending=False)"
   ]
  },
  {
   "cell_type": "markdown",
   "id": "4104e7ec",
   "metadata": {},
   "source": [
    "Once again, we saved the csv so that we do not have to run the functions everytime."
   ]
  },
  {
   "cell_type": "code",
   "execution_count": null,
   "id": "d4e49592",
   "metadata": {},
   "outputs": [],
   "source": [
    "temp = posts.copy()\n",
    "temp.to_csv('after_sharpes_ratio.csv', index=True)"
   ]
  },
  {
   "cell_type": "code",
   "execution_count": 10,
   "id": "ccf9161a",
   "metadata": {},
   "outputs": [
    {
     "data": {
      "text/html": [
       "<div>\n",
       "<style scoped>\n",
       "    .dataframe tbody tr th:only-of-type {\n",
       "        vertical-align: middle;\n",
       "    }\n",
       "\n",
       "    .dataframe tbody tr th {\n",
       "        vertical-align: top;\n",
       "    }\n",
       "\n",
       "    .dataframe thead th {\n",
       "        text-align: right;\n",
       "    }\n",
       "</style>\n",
       "<table border=\"1\" class=\"dataframe\">\n",
       "  <thead>\n",
       "    <tr style=\"text-align: right;\">\n",
       "      <th></th>\n",
       "      <th>$AAPL</th>\n",
       "      <th>$AMZN</th>\n",
       "      <th>$META</th>\n",
       "      <th>$NFLX</th>\n",
       "      <th>$TSLA</th>\n",
       "      <th>$GOOGL</th>\n",
       "      <th>$NVDA</th>\n",
       "      <th>$AMD</th>\n",
       "      <th>Sharpe Ratio</th>\n",
       "    </tr>\n",
       "  </thead>\n",
       "  <tbody>\n",
       "    <tr>\n",
       "      <th>BlazingJava</th>\n",
       "      <td>0</td>\n",
       "      <td>[{'tittle': 'Amazon Monthly Moving Average', '...</td>\n",
       "      <td>[{'tittle': 'META Bloodbath', 'text': \"Meta ju...</td>\n",
       "      <td>0</td>\n",
       "      <td>0</td>\n",
       "      <td>0</td>\n",
       "      <td>0</td>\n",
       "      <td>0</td>\n",
       "      <td>2.660843</td>\n",
       "    </tr>\n",
       "    <tr>\n",
       "      <th>Catgang_Lock</th>\n",
       "      <td>0</td>\n",
       "      <td>[{'tittle': 'Should I invest in Meta or Amazon...</td>\n",
       "      <td>[{'tittle': 'Should I invest in Meta or Amazon...</td>\n",
       "      <td>0</td>\n",
       "      <td>0</td>\n",
       "      <td>0</td>\n",
       "      <td>0</td>\n",
       "      <td>0</td>\n",
       "      <td>2.102418</td>\n",
       "    </tr>\n",
       "    <tr>\n",
       "      <th>k_ristovski</th>\n",
       "      <td>0</td>\n",
       "      <td>0</td>\n",
       "      <td>[{'tittle': 'Meta stock analysis and valuation...</td>\n",
       "      <td>0</td>\n",
       "      <td>[{'tittle': 'Tesla stock collapse - All you ne...</td>\n",
       "      <td>0</td>\n",
       "      <td>0</td>\n",
       "      <td>0</td>\n",
       "      <td>2.035905</td>\n",
       "    </tr>\n",
       "    <tr>\n",
       "      <th>Ok_Remove3123</th>\n",
       "      <td>[{'tittle': 'Apple stock price below 120?', 't...</td>\n",
       "      <td>0</td>\n",
       "      <td>0</td>\n",
       "      <td>0</td>\n",
       "      <td>0</td>\n",
       "      <td>0</td>\n",
       "      <td>[{'tittle': 'NVDA vs AMD? Which is better', 't...</td>\n",
       "      <td>[{'tittle': 'NVDA vs AMD? Which is better', 't...</td>\n",
       "      <td>1.613097</td>\n",
       "    </tr>\n",
       "    <tr>\n",
       "      <th>WickedSensitiveCrew</th>\n",
       "      <td>[{'tittle': 'Goldman Sachs is watching for ‘ca...</td>\n",
       "      <td>[{'tittle': 'Meta and Alphabet lose dominance ...</td>\n",
       "      <td>[{'tittle': 'Meta and Alphabet lose dominance ...</td>\n",
       "      <td>0</td>\n",
       "      <td>[{'tittle': 'Tesla cuts U.S. prices for fifth ...</td>\n",
       "      <td>[{'tittle': 'Microsoft limits Bing A.I. chats ...</td>\n",
       "      <td>0</td>\n",
       "      <td>0</td>\n",
       "      <td>1.587465</td>\n",
       "    </tr>\n",
       "    <tr>\n",
       "      <th>...</th>\n",
       "      <td>...</td>\n",
       "      <td>...</td>\n",
       "      <td>...</td>\n",
       "      <td>...</td>\n",
       "      <td>...</td>\n",
       "      <td>...</td>\n",
       "      <td>...</td>\n",
       "      <td>...</td>\n",
       "      <td>...</td>\n",
       "    </tr>\n",
       "    <tr>\n",
       "      <th>Brothanogood</th>\n",
       "      <td>0</td>\n",
       "      <td>0</td>\n",
       "      <td>0</td>\n",
       "      <td>[{'tittle': 'Netflix lays off 300 more employe...</td>\n",
       "      <td>[{'tittle': 'Elon Musk sold around $4 billion ...</td>\n",
       "      <td>0</td>\n",
       "      <td>0</td>\n",
       "      <td>0</td>\n",
       "      <td>-1.688451</td>\n",
       "    </tr>\n",
       "    <tr>\n",
       "      <th>Lilipad42</th>\n",
       "      <td>[{'tittle': 'Why do you think Apple took down ...</td>\n",
       "      <td>0</td>\n",
       "      <td>[{'tittle': 'Why do you think Apple took down ...</td>\n",
       "      <td>0</td>\n",
       "      <td>0</td>\n",
       "      <td>0</td>\n",
       "      <td>0</td>\n",
       "      <td>0</td>\n",
       "      <td>-1.718861</td>\n",
       "    </tr>\n",
       "    <tr>\n",
       "      <th>bwang29</th>\n",
       "      <td>[{'tittle': 'Is AAPL sucking the blood out of ...</td>\n",
       "      <td>0</td>\n",
       "      <td>[{'tittle': 'Is AAPL sucking the blood out of ...</td>\n",
       "      <td>[{'tittle': 'Is AAPL sucking the blood out of ...</td>\n",
       "      <td>0</td>\n",
       "      <td>[{'tittle': 'Is AAPL sucking the blood out of ...</td>\n",
       "      <td>0</td>\n",
       "      <td>[{'tittle': 'Is AAPL sucking the blood out of ...</td>\n",
       "      <td>-2.263767</td>\n",
       "    </tr>\n",
       "    <tr>\n",
       "      <th>predictany007</th>\n",
       "      <td>[{'tittle': 'Apple (AAPL) is reportedly cuttin...</td>\n",
       "      <td>[{'tittle': 'Amazon lost half its value this y...</td>\n",
       "      <td>[{'tittle': 'Facebook parent company Meta is n...</td>\n",
       "      <td>[{'tittle': 'Netflix misses subscriber estimat...</td>\n",
       "      <td>[{'tittle': 'Tesla cuts prices for Model 3, Mo...</td>\n",
       "      <td>[{'tittle': 'Alphabet (GOOGL) and Microsoft (M...</td>\n",
       "      <td>0</td>\n",
       "      <td>[{'tittle': 'AMD revenue warning signals deep ...</td>\n",
       "      <td>-2.380643</td>\n",
       "    </tr>\n",
       "    <tr>\n",
       "      <th>uselessadjective</th>\n",
       "      <td>0</td>\n",
       "      <td>0</td>\n",
       "      <td>[{'tittle': 'Why mad when META is down 73% whi...</td>\n",
       "      <td>0</td>\n",
       "      <td>0</td>\n",
       "      <td>0</td>\n",
       "      <td>0</td>\n",
       "      <td>[{'tittle': 'Why mad when META is down 73% whi...</td>\n",
       "      <td>-2.636020</td>\n",
       "    </tr>\n",
       "  </tbody>\n",
       "</table>\n",
       "<p>147 rows × 9 columns</p>\n",
       "</div>"
      ],
      "text/plain": [
       "                                                                 $AAPL  \\\n",
       "BlazingJava                                                          0   \n",
       "Catgang_Lock                                                         0   \n",
       "k_ristovski                                                          0   \n",
       "Ok_Remove3123        [{'tittle': 'Apple stock price below 120?', 't...   \n",
       "WickedSensitiveCrew  [{'tittle': 'Goldman Sachs is watching for ‘ca...   \n",
       "...                                                                ...   \n",
       "Brothanogood                                                         0   \n",
       "Lilipad42            [{'tittle': 'Why do you think Apple took down ...   \n",
       "bwang29              [{'tittle': 'Is AAPL sucking the blood out of ...   \n",
       "predictany007        [{'tittle': 'Apple (AAPL) is reportedly cuttin...   \n",
       "uselessadjective                                                     0   \n",
       "\n",
       "                                                                 $AMZN  \\\n",
       "BlazingJava          [{'tittle': 'Amazon Monthly Moving Average', '...   \n",
       "Catgang_Lock         [{'tittle': 'Should I invest in Meta or Amazon...   \n",
       "k_ristovski                                                          0   \n",
       "Ok_Remove3123                                                        0   \n",
       "WickedSensitiveCrew  [{'tittle': 'Meta and Alphabet lose dominance ...   \n",
       "...                                                                ...   \n",
       "Brothanogood                                                         0   \n",
       "Lilipad42                                                            0   \n",
       "bwang29                                                              0   \n",
       "predictany007        [{'tittle': 'Amazon lost half its value this y...   \n",
       "uselessadjective                                                     0   \n",
       "\n",
       "                                                                 $META  \\\n",
       "BlazingJava          [{'tittle': 'META Bloodbath', 'text': \"Meta ju...   \n",
       "Catgang_Lock         [{'tittle': 'Should I invest in Meta or Amazon...   \n",
       "k_ristovski          [{'tittle': 'Meta stock analysis and valuation...   \n",
       "Ok_Remove3123                                                        0   \n",
       "WickedSensitiveCrew  [{'tittle': 'Meta and Alphabet lose dominance ...   \n",
       "...                                                                ...   \n",
       "Brothanogood                                                         0   \n",
       "Lilipad42            [{'tittle': 'Why do you think Apple took down ...   \n",
       "bwang29              [{'tittle': 'Is AAPL sucking the blood out of ...   \n",
       "predictany007        [{'tittle': 'Facebook parent company Meta is n...   \n",
       "uselessadjective     [{'tittle': 'Why mad when META is down 73% whi...   \n",
       "\n",
       "                                                                 $NFLX  \\\n",
       "BlazingJava                                                          0   \n",
       "Catgang_Lock                                                         0   \n",
       "k_ristovski                                                          0   \n",
       "Ok_Remove3123                                                        0   \n",
       "WickedSensitiveCrew                                                  0   \n",
       "...                                                                ...   \n",
       "Brothanogood         [{'tittle': 'Netflix lays off 300 more employe...   \n",
       "Lilipad42                                                            0   \n",
       "bwang29              [{'tittle': 'Is AAPL sucking the blood out of ...   \n",
       "predictany007        [{'tittle': 'Netflix misses subscriber estimat...   \n",
       "uselessadjective                                                     0   \n",
       "\n",
       "                                                                 $TSLA  \\\n",
       "BlazingJava                                                          0   \n",
       "Catgang_Lock                                                         0   \n",
       "k_ristovski          [{'tittle': 'Tesla stock collapse - All you ne...   \n",
       "Ok_Remove3123                                                        0   \n",
       "WickedSensitiveCrew  [{'tittle': 'Tesla cuts U.S. prices for fifth ...   \n",
       "...                                                                ...   \n",
       "Brothanogood         [{'tittle': 'Elon Musk sold around $4 billion ...   \n",
       "Lilipad42                                                            0   \n",
       "bwang29                                                              0   \n",
       "predictany007        [{'tittle': 'Tesla cuts prices for Model 3, Mo...   \n",
       "uselessadjective                                                     0   \n",
       "\n",
       "                                                                $GOOGL  \\\n",
       "BlazingJava                                                          0   \n",
       "Catgang_Lock                                                         0   \n",
       "k_ristovski                                                          0   \n",
       "Ok_Remove3123                                                        0   \n",
       "WickedSensitiveCrew  [{'tittle': 'Microsoft limits Bing A.I. chats ...   \n",
       "...                                                                ...   \n",
       "Brothanogood                                                         0   \n",
       "Lilipad42                                                            0   \n",
       "bwang29              [{'tittle': 'Is AAPL sucking the blood out of ...   \n",
       "predictany007        [{'tittle': 'Alphabet (GOOGL) and Microsoft (M...   \n",
       "uselessadjective                                                     0   \n",
       "\n",
       "                                                                 $NVDA  \\\n",
       "BlazingJava                                                          0   \n",
       "Catgang_Lock                                                         0   \n",
       "k_ristovski                                                          0   \n",
       "Ok_Remove3123        [{'tittle': 'NVDA vs AMD? Which is better', 't...   \n",
       "WickedSensitiveCrew                                                  0   \n",
       "...                                                                ...   \n",
       "Brothanogood                                                         0   \n",
       "Lilipad42                                                            0   \n",
       "bwang29                                                              0   \n",
       "predictany007                                                        0   \n",
       "uselessadjective                                                     0   \n",
       "\n",
       "                                                                  $AMD  \\\n",
       "BlazingJava                                                          0   \n",
       "Catgang_Lock                                                         0   \n",
       "k_ristovski                                                          0   \n",
       "Ok_Remove3123        [{'tittle': 'NVDA vs AMD? Which is better', 't...   \n",
       "WickedSensitiveCrew                                                  0   \n",
       "...                                                                ...   \n",
       "Brothanogood                                                         0   \n",
       "Lilipad42                                                            0   \n",
       "bwang29              [{'tittle': 'Is AAPL sucking the blood out of ...   \n",
       "predictany007        [{'tittle': 'AMD revenue warning signals deep ...   \n",
       "uselessadjective     [{'tittle': 'Why mad when META is down 73% whi...   \n",
       "\n",
       "                     Sharpe Ratio  \n",
       "BlazingJava              2.660843  \n",
       "Catgang_Lock             2.102418  \n",
       "k_ristovski              2.035905  \n",
       "Ok_Remove3123            1.613097  \n",
       "WickedSensitiveCrew      1.587465  \n",
       "...                           ...  \n",
       "Brothanogood            -1.688451  \n",
       "Lilipad42               -1.718861  \n",
       "bwang29                 -2.263767  \n",
       "predictany007           -2.380643  \n",
       "uselessadjective        -2.636020  \n",
       "\n",
       "[147 rows x 9 columns]"
      ]
     },
     "execution_count": 10,
     "metadata": {},
     "output_type": "execute_result"
    }
   ],
   "source": [
    "sh_data = pd.read_csv('after_sharpes_ratio.csv', index_col = 0)\n",
    "sh_data"
   ]
  },
  {
   "cell_type": "markdown",
   "id": "56646a84",
   "metadata": {},
   "source": [
    "With this data, first we wanted to see how well our users did overall against the market. We calculated the the average sharpe's ratio of our dataset."
   ]
  },
  {
   "cell_type": "code",
   "execution_count": 12,
   "id": "f483130b",
   "metadata": {},
   "outputs": [
    {
     "name": "stdout",
     "output_type": "stream",
     "text": [
      "The mean is:  0.07381639919895469\n"
     ]
    }
   ],
   "source": [
    "sharpes_ratio_list = sh_data['Sharpe Ratio'].to_list()\n",
    "mean = statistics.mean(sharpes_ratio_list)\n",
    "\n",
    "print('The mean is: ', mean)"
   ]
  },
  {
   "cell_type": "markdown",
   "id": "dbe76dc9",
   "metadata": {},
   "source": [
    "Below is the histogram of the Sharpe's Ratio for the users we analyzed."
   ]
  },
  {
   "cell_type": "code",
   "execution_count": 15,
   "id": "b93489d3",
   "metadata": {},
   "outputs": [
    {
     "data": {
      "image/png": "[encoded data removed]",
      "text/plain": [
       "<Figure size 640x480 with 1 Axes>"
      ]
     },
     "metadata": {},
     "output_type": "display_data"
    }
   ],
   "source": [
    "plt.hist(sharpes_ratio_list, bins=25, color='blue', alpha=0.5)\n",
    "\n",
    "\n",
    "plt.title(\"Histogram of Sharpe's Ratios\", fontsize=20)\n",
    "plt.xlabel(\"Sharpe's Ratio\", fontsize=16)\n",
    "plt.ylabel(\"Frequency\", fontsize=16)\n",
    "\n",
    "\n",
    "plt.grid(True)\n",
    "\n",
    "\n",
    "plt.show()"
   ]
  },
  {
   "cell_type": "markdown",
   "id": "1b716d44",
   "metadata": {},
   "source": [
    "This is what we expected. The market's Sharpe's ratio is 0, and we can see that the users make bell-curve like figure around it.\n",
    "\n",
    "Now, we want to visually see the the users with the best and worst Sharpe's Ratio. We developed a function that would plot the time of the user's post on the graph of the stock. A green dot indicates that they \"bought\" the stock and red indicates that they \"sold\"."
   ]
  },
  {
   "cell_type": "code",
   "execution_count": null,
   "id": "59218e43",
   "metadata": {},
   "outputs": [],
   "source": [
    "def plot_stock_and_comments(df, user):\n",
    "    tickers = df.columns\n",
    "    tickers = tickers.tolist()\n",
    "    tickers = [ticker.replace('$', '') for ticker in tickers]\n",
    "    tickers = [s for s in tickers if 'Sharpe Ratio' not in s]\n",
    "    for tick in tickers:\n",
    "        stock_data = yf.download(tick, period=\"1y\", interval = \"1d\")\n",
    "        fig, ax = plt.subplots()\n",
    "        ax.plot(stock_data['Close'], label=tick)\n",
    "    \n",
    "        user_data = df.loc[user]\n",
    "        comments = user_data.loc[\"$\" + tick]\n",
    "        if comments == 0:\n",
    "            continue;\n",
    "        for i in comments:\n",
    "                comment_time = datetime.strptime(str(i['date']), \"%Y-%m-%d %H:%M:%S\")\n",
    "    \n",
    "                if comment_time.date() in stock_data.index:\n",
    "                    stock_price = stock_data.loc[str(comment_time.date())]['Close']\n",
    "                else:\n",
    "                    closest_date_idx = np.abs(stock_data.index - comment_time).argmin()\n",
    "                    stock_price = stock_data.iloc[closest_date_idx]['Close']\n",
    "\n",
    "\n",
    "                if i['sentiment'] == 1:\n",
    "                    ax.plot(comment_time, stock_price, 'go')\n",
    "                elif i['sentiment'] == 0:\n",
    "                    ax.plot(comment_time, stock_price, 'ro')\n",
    "                else:\n",
    "                    ax.plot(comment_time, stock_price, 'yo')\n",
    "        \n",
    "        # Set the plot title and axis labels\n",
    "        ax.set_title(user_data.name + \": \" + tick + \" Stock Data and Comments\")\n",
    "        ax.set_xlabel(\"Date\")\n",
    "        ax.set_ylabel(\"Stock Price\")\n",
    "        plt.plot()\n",
    "        fig.savefig(user_data.name + \": \" + tick + \".png\")"
   ]
  },
  {
   "cell_type": "markdown",
   "id": "da4324fa",
   "metadata": {},
   "source": [
    "Below, are some of the graphs  of the stock these users talked about and how well it did in the market. It was generated by the function we developed above."
   ]
  },
  {
   "attachments": {
    "BlazingJava_%20META.png": {
     "image/png": "[encoded data removed]"
    }
   },
   "cell_type": "markdown",
   "id": "639cd1a1",
   "metadata": {},
   "source": [
    "![BlazingJava_%20META.png](attachment:BlazingJava_%20META.png)"
   ]
  },
  {
   "attachments": {
    "Catgang_Lock_%20AMZN.png": {
     "image/png": "[encoded data removed]"
    }
   },
   "cell_type": "markdown",
   "id": "8e563804",
   "metadata": {},
   "source": [
    "![Catgang_Lock_%20AMZN.png](attachment:Catgang_Lock_%20AMZN.png)"
   ]
  },
  {
   "attachments": {
    "WickedSensitiveCrew_%20AAPL.png": {
     "image/png": "[encoded data removed]"
    }
   },
   "cell_type": "markdown",
   "id": "82529bd3",
   "metadata": {},
   "source": [
    "![WickedSensitiveCrew_%20AAPL.png](attachment:WickedSensitiveCrew_%20AAPL.png)"
   ]
  },
  {
   "attachments": {
    "image.png": {
     "image/png": "[encoded data removed]"
    }
   },
   "cell_type": "markdown",
   "id": "c98507b4",
   "metadata": {},
   "source": [
    "![image.png](attachment:image.png)"
   ]
  },
  {
   "attachments": {
    "image.png": {
     "image/png": "[encoded data removed]"
    }
   },
   "cell_type": "markdown",
   "id": "f034885a",
   "metadata": {},
   "source": [
    "![image.png](attachment:image.png)"
   ]
  },
  {
   "cell_type": "markdown",
   "id": "5b437292",
   "metadata": {},
   "source": [
    "Now that we have completed our more refined pass-through and analysis, we have to look back and answer our initial questions."
   ]
  },
  {
   "cell_type": "markdown",
   "id": "7599a873",
   "metadata": {},
   "source": [
    "## Can we determine if a user gives good investment advice based on which stock they support and when they give that adivce. Comparing it to the stock's price at that date and the current stock price."
   ]
  },
  {
   "cell_type": "markdown",
   "id": "215ca912",
   "metadata": {},
   "source": [
    "Yes, we were able to conduct sentiment analysis on reddit posts related to a particular stock or company using natural language processing techniques. To do this, we developed our own criteria for determining whether a post was positive, negative, or neutral based on the sentiment expressed in the text.\n",
    "\n",
    "After analyzing the sentiment of the posts, we were able to graph the sentiment scores alongside the stock's price graph to explore any potential relationships or correlations between the two. This allowed us to gain insights into how public sentiment towards a company or stock might impact its market performance.\n"
   ]
  },
  {
   "cell_type": "markdown",
   "id": "791a5f48",
   "metadata": {},
   "source": [
    "## Can we apply Sharpe's Ratio to a users investment adivce over time to score the quality of their advice.\n"
   ]
  },
  {
   "cell_type": "markdown",
   "id": "6737d500",
   "metadata": {},
   "source": [
    "Once we had conducted sentiment analysis on social media posts related to a particular stock or company, we then looked for users with multiple posts about that topic. Using the sentiment scores for their first post, we were able to calculate their Sharpe ratio, which is a measure of risk-adjusted return.\n",
    "\n",
    "To calculate the Sharpe ratio, we treated the sentiment score as an indicator of whether the user had made a purchase or a sale. If their first post had a positive sentiment, we treated it as a purchase, while a negative sentiment was treated as a sale. By using this approach, we were able to calculate the Sharpe ratio for each user and visualize it on a graph."
   ]
  },
  {
   "cell_type": "markdown",
   "id": "d196d115",
   "metadata": {},
   "source": [
    "## How accurate and reliable is investment advice shared on Reddit compared to advice from professional financial advisors?\n"
   ]
  },
  {
   "cell_type": "markdown",
   "id": "5de38c7c",
   "metadata": {},
   "source": [
    "The accuracy of financial investment advice on Reddit can vary depending on various factors, including the specific subreddit, the quality of the analysis and advice, and the expertise of the users providing the advice.\n",
    "\n",
    "In our analysis, we found that the Sharpe ratio average for our Reddit investment advice was slightly higher than the market's average. This could be due to several factors, including the fact that the market's average Sharpe ratio is typically zero, and our Reddit investment advice had an average Sharpe ratio of 0.75.\n",
    "\n",
    "However, it's important to note that our analysis only looked at a small portion of the Reddit community and a relatively short range of time (one year). This limited sample size and time frame may not be enough to accurately represent the broader Reddit community's investment advice and performance.\n",
    "\n"
   ]
  },
  {
   "cell_type": "markdown",
   "id": "1245da65",
   "metadata": {},
   "source": [
    "## End of the Part 3 Report"
   ]
  }
 ],
 "metadata": {
  "kernelspec": {
   "display_name": "Python 3 (ipykernel)",
   "language": "python",
   "name": "python3"
  },
  "language_info": {
   "codemirror_mode": {
    "name": "ipython",
    "version": 3
   },
   "file_extension": ".py",
   "mimetype": "text/x-python",
   "name": "python",
   "nbconvert_exporter": "python",
   "pygments_lexer": "ipython3",
   "version": "3.9.13"
  }
 },
 "nbformat": 4,
 "nbformat_minor": 5
}
